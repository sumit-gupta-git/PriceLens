{
 "cells": [
  {
   "cell_type": "code",
   "execution_count": 20,
   "id": "309059e5-4dd0-4c3d-8d17-a9de4e97d9e4",
   "metadata": {},
   "outputs": [],
   "source": [
    "#importing dependencies\n",
    "import pandas as pd \n",
    "import numpy as np\n",
    "import matplotlib.pyplot as plt\n",
    "%matplotlib inline\n",
    "import seaborn as sns\n",
    "import warnings\n",
    "warnings.filterwarnings('ignore')"
   ]
  },
  {
   "cell_type": "code",
   "execution_count": 21,
   "id": "d0a24c9b-a493-4dae-bca3-bbb6185dfa03",
   "metadata": {},
   "outputs": [],
   "source": [
    "#reading the data\n",
    "df = pd.read_csv('/home/sumit/PriceLens/data/raw/cardekho_imputated.csv')"
   ]
  },
  {
   "cell_type": "code",
   "execution_count": 22,
   "id": "f38482f2-a147-4ace-825a-8d68dcad8cdb",
   "metadata": {},
   "outputs": [
    {
     "data": {
      "text/html": [
       "<div>\n",
       "<style scoped>\n",
       "    .dataframe tbody tr th:only-of-type {\n",
       "        vertical-align: middle;\n",
       "    }\n",
       "\n",
       "    .dataframe tbody tr th {\n",
       "        vertical-align: top;\n",
       "    }\n",
       "\n",
       "    .dataframe thead th {\n",
       "        text-align: right;\n",
       "    }\n",
       "</style>\n",
       "<table border=\"1\" class=\"dataframe\">\n",
       "  <thead>\n",
       "    <tr style=\"text-align: right;\">\n",
       "      <th></th>\n",
       "      <th>Unnamed: 0</th>\n",
       "      <th>car_name</th>\n",
       "      <th>brand</th>\n",
       "      <th>model</th>\n",
       "      <th>vehicle_age</th>\n",
       "      <th>km_driven</th>\n",
       "      <th>seller_type</th>\n",
       "      <th>fuel_type</th>\n",
       "      <th>transmission_type</th>\n",
       "      <th>mileage</th>\n",
       "      <th>engine</th>\n",
       "      <th>max_power</th>\n",
       "      <th>seats</th>\n",
       "      <th>selling_price</th>\n",
       "    </tr>\n",
       "  </thead>\n",
       "  <tbody>\n",
       "    <tr>\n",
       "      <th>0</th>\n",
       "      <td>0</td>\n",
       "      <td>Maruti Alto</td>\n",
       "      <td>Maruti</td>\n",
       "      <td>Alto</td>\n",
       "      <td>9</td>\n",
       "      <td>120000</td>\n",
       "      <td>Individual</td>\n",
       "      <td>Petrol</td>\n",
       "      <td>Manual</td>\n",
       "      <td>19.70</td>\n",
       "      <td>796</td>\n",
       "      <td>46.30</td>\n",
       "      <td>5</td>\n",
       "      <td>120000</td>\n",
       "    </tr>\n",
       "    <tr>\n",
       "      <th>1</th>\n",
       "      <td>1</td>\n",
       "      <td>Hyundai Grand</td>\n",
       "      <td>Hyundai</td>\n",
       "      <td>Grand</td>\n",
       "      <td>5</td>\n",
       "      <td>20000</td>\n",
       "      <td>Individual</td>\n",
       "      <td>Petrol</td>\n",
       "      <td>Manual</td>\n",
       "      <td>18.90</td>\n",
       "      <td>1197</td>\n",
       "      <td>82.00</td>\n",
       "      <td>5</td>\n",
       "      <td>550000</td>\n",
       "    </tr>\n",
       "    <tr>\n",
       "      <th>2</th>\n",
       "      <td>2</td>\n",
       "      <td>Hyundai i20</td>\n",
       "      <td>Hyundai</td>\n",
       "      <td>i20</td>\n",
       "      <td>11</td>\n",
       "      <td>60000</td>\n",
       "      <td>Individual</td>\n",
       "      <td>Petrol</td>\n",
       "      <td>Manual</td>\n",
       "      <td>17.00</td>\n",
       "      <td>1197</td>\n",
       "      <td>80.00</td>\n",
       "      <td>5</td>\n",
       "      <td>215000</td>\n",
       "    </tr>\n",
       "    <tr>\n",
       "      <th>3</th>\n",
       "      <td>3</td>\n",
       "      <td>Maruti Alto</td>\n",
       "      <td>Maruti</td>\n",
       "      <td>Alto</td>\n",
       "      <td>9</td>\n",
       "      <td>37000</td>\n",
       "      <td>Individual</td>\n",
       "      <td>Petrol</td>\n",
       "      <td>Manual</td>\n",
       "      <td>20.92</td>\n",
       "      <td>998</td>\n",
       "      <td>67.10</td>\n",
       "      <td>5</td>\n",
       "      <td>226000</td>\n",
       "    </tr>\n",
       "    <tr>\n",
       "      <th>4</th>\n",
       "      <td>4</td>\n",
       "      <td>Ford Ecosport</td>\n",
       "      <td>Ford</td>\n",
       "      <td>Ecosport</td>\n",
       "      <td>6</td>\n",
       "      <td>30000</td>\n",
       "      <td>Dealer</td>\n",
       "      <td>Diesel</td>\n",
       "      <td>Manual</td>\n",
       "      <td>22.77</td>\n",
       "      <td>1498</td>\n",
       "      <td>98.59</td>\n",
       "      <td>5</td>\n",
       "      <td>570000</td>\n",
       "    </tr>\n",
       "  </tbody>\n",
       "</table>\n",
       "</div>"
      ],
      "text/plain": [
       "   Unnamed: 0       car_name    brand     model  vehicle_age  km_driven  \\\n",
       "0           0    Maruti Alto   Maruti      Alto            9     120000   \n",
       "1           1  Hyundai Grand  Hyundai     Grand            5      20000   \n",
       "2           2    Hyundai i20  Hyundai       i20           11      60000   \n",
       "3           3    Maruti Alto   Maruti      Alto            9      37000   \n",
       "4           4  Ford Ecosport     Ford  Ecosport            6      30000   \n",
       "\n",
       "  seller_type fuel_type transmission_type  mileage  engine  max_power  seats  \\\n",
       "0  Individual    Petrol            Manual    19.70     796      46.30      5   \n",
       "1  Individual    Petrol            Manual    18.90    1197      82.00      5   \n",
       "2  Individual    Petrol            Manual    17.00    1197      80.00      5   \n",
       "3  Individual    Petrol            Manual    20.92     998      67.10      5   \n",
       "4      Dealer    Diesel            Manual    22.77    1498      98.59      5   \n",
       "\n",
       "   selling_price  \n",
       "0         120000  \n",
       "1         550000  \n",
       "2         215000  \n",
       "3         226000  \n",
       "4         570000  "
      ]
     },
     "execution_count": 22,
     "metadata": {},
     "output_type": "execute_result"
    }
   ],
   "source": [
    "df.head()"
   ]
  },
  {
   "cell_type": "markdown",
   "id": "83f97b67-0704-420c-bcf7-4825b6a24d9f",
   "metadata": {},
   "source": [
    "## EDA"
   ]
  },
  {
   "cell_type": "code",
   "execution_count": 23,
   "id": "4a7b2761-212a-46a1-af1e-e8377c4f2cf0",
   "metadata": {},
   "outputs": [
    {
     "data": {
      "text/plain": [
       "Unnamed: 0           0\n",
       "car_name             0\n",
       "brand                0\n",
       "model                0\n",
       "vehicle_age          0\n",
       "km_driven            0\n",
       "seller_type          0\n",
       "fuel_type            0\n",
       "transmission_type    0\n",
       "mileage              0\n",
       "engine               0\n",
       "max_power            0\n",
       "seats                0\n",
       "selling_price        0\n",
       "dtype: int64"
      ]
     },
     "execution_count": 23,
     "metadata": {},
     "output_type": "execute_result"
    }
   ],
   "source": [
    "df.isnull().sum()"
   ]
  },
  {
   "cell_type": "code",
   "execution_count": 24,
   "id": "b89b38bc-e7ba-4909-b5fd-20520652bc70",
   "metadata": {},
   "outputs": [],
   "source": [
    "#dropping unnecessary columns\n",
    "df.drop(['car_name', 'Unnamed: 0'], axis=1, inplace=True)"
   ]
  },
  {
   "cell_type": "code",
   "execution_count": 25,
   "id": "d439045c-41a2-416b-85df-6b27faf13eda",
   "metadata": {},
   "outputs": [
    {
     "name": "stdout",
     "output_type": "stream",
     "text": [
      "<class 'pandas.core.frame.DataFrame'>\n",
      "RangeIndex: 15411 entries, 0 to 15410\n",
      "Data columns (total 12 columns):\n",
      " #   Column             Non-Null Count  Dtype  \n",
      "---  ------             --------------  -----  \n",
      " 0   brand              15411 non-null  object \n",
      " 1   model              15411 non-null  object \n",
      " 2   vehicle_age        15411 non-null  int64  \n",
      " 3   km_driven          15411 non-null  int64  \n",
      " 4   seller_type        15411 non-null  object \n",
      " 5   fuel_type          15411 non-null  object \n",
      " 6   transmission_type  15411 non-null  object \n",
      " 7   mileage            15411 non-null  float64\n",
      " 8   engine             15411 non-null  int64  \n",
      " 9   max_power          15411 non-null  float64\n",
      " 10  seats              15411 non-null  int64  \n",
      " 11  selling_price      15411 non-null  int64  \n",
      "dtypes: float64(2), int64(5), object(5)\n",
      "memory usage: 1.4+ MB\n"
     ]
    }
   ],
   "source": [
    "df.info()"
   ]
  },
  {
   "cell_type": "code",
   "execution_count": 26,
   "id": "ad86d55e-39d9-4a75-967d-a65cd6ae0d22",
   "metadata": {},
   "outputs": [
    {
     "data": {
      "text/plain": [
       "brand\n",
       "Maruti           4992\n",
       "Hyundai          2982\n",
       "Honda            1485\n",
       "Mahindra         1011\n",
       "Toyota            793\n",
       "Ford              790\n",
       "Volkswagen        620\n",
       "Renault           536\n",
       "BMW               439\n",
       "Tata              430\n",
       "Mercedes-Benz     337\n",
       "Skoda             334\n",
       "Audi              192\n",
       "Datsun            170\n",
       "Jaguar             59\n",
       "Land Rover         51\n",
       "Jeep               41\n",
       "Kia                32\n",
       "Porsche            21\n",
       "Volvo              20\n",
       "MG                 19\n",
       "Mini               17\n",
       "Nissan             11\n",
       "Lexus              10\n",
       "Isuzu               8\n",
       "Bentley             3\n",
       "Maserati            2\n",
       "ISUZU               2\n",
       "Ferrari             1\n",
       "Mercedes-AMG        1\n",
       "Rolls-Royce         1\n",
       "Force               1\n",
       "Name: count, dtype: int64"
      ]
     },
     "execution_count": 26,
     "metadata": {},
     "output_type": "execute_result"
    }
   ],
   "source": [
    "df[\"brand\"].value_counts()"
   ]
  },
  {
   "cell_type": "code",
   "execution_count": 27,
   "id": "1d18d393",
   "metadata": {},
   "outputs": [
    {
     "data": {
      "text/plain": [
       "14556"
      ]
     },
     "execution_count": 27,
     "metadata": {},
     "output_type": "execute_result"
    }
   ],
   "source": [
    "#checking and removing extreme outliers\n",
    "\n",
    "for col in ['selling_price', 'km_driven', 'mileage', 'engine', 'max_power']:\n",
    "            if col in df.columns:\n",
    "                mean_val = df[col].mean()\n",
    "                std_val = df[col].std()\n",
    "                lower_bound = mean_val - 3 * std_val\n",
    "                upper_bound = mean_val + 3 * std_val\n",
    "                \n",
    "                outliers_mask = (df[col] < lower_bound) | (df[col] > upper_bound)\n",
    "                df = df[~outliers_mask]\n",
    "\n",
    "final_rows = len(df)\n",
    "final_rows"
   ]
  },
  {
   "cell_type": "code",
   "execution_count": 28,
   "id": "96c8163a-53a7-42ea-9ea3-85125561570f",
   "metadata": {},
   "outputs": [
    {
     "data": {
      "text/plain": [
       "<Axes: xlabel='vehicle_age'>"
      ]
     },
     "execution_count": 28,
     "metadata": {},
     "output_type": "execute_result"
    },
    {
     "data": {
      "image/png": "[encoded data removed]",
      "text/plain": [
       "<Figure size 640x480 with 1 Axes>"
      ]
     },
     "metadata": {},
     "output_type": "display_data"
    }
   ],
   "source": [
    "df[\"vehicle_age\"].value_counts().plot(kind=\"bar\")"
   ]
  },
  {
   "cell_type": "code",
   "execution_count": 29,
   "id": "a7fa3db9-f3f9-4cfd-9885-598b64854f35",
   "metadata": {},
   "outputs": [
    {
     "data": {
      "text/plain": [
       "km_driven\n",
       "50000    535\n",
       "40000    455\n",
       "70000    445\n",
       "60000    435\n",
       "30000    347\n",
       "        ... \n",
       "30798      1\n",
       "28147      1\n",
       "21321      1\n",
       "54311      1\n",
       "75200      1\n",
       "Name: count, Length: 3510, dtype: int64"
      ]
     },
     "execution_count": 29,
     "metadata": {},
     "output_type": "execute_result"
    }
   ],
   "source": [
    "df['km_driven'].value_counts()"
   ]
  },
  {
   "cell_type": "code",
   "execution_count": 30,
   "id": "a2b3fcf0-e263-4b6f-ac82-e9e582960d60",
   "metadata": {},
   "outputs": [
    {
     "data": {
      "text/plain": [
       "seller_type\n",
       "Dealer              8843\n",
       "Individual          5549\n",
       "Trustmark Dealer     164\n",
       "Name: count, dtype: int64"
      ]
     },
     "execution_count": 30,
     "metadata": {},
     "output_type": "execute_result"
    }
   ],
   "source": [
    "df['seller_type'].value_counts()"
   ]
  },
  {
   "cell_type": "code",
   "execution_count": 31,
   "id": "49cc8f6c-ea09-46c9-a416-39bedc0c88c7",
   "metadata": {},
   "outputs": [
    {
     "data": {
      "text/plain": [
       "<Axes: xlabel='fuel_type'>"
      ]
     },
     "execution_count": 31,
     "metadata": {},
     "output_type": "execute_result"
    },
    {
     "data": {
      "image/png": "[encoded data removed]",
      "text/plain": [
       "<Figure size 640x480 with 1 Axes>"
      ]
     },
     "metadata": {},
     "output_type": "display_data"
    }
   ],
   "source": [
    "df['fuel_type'].value_counts().plot(kind=\"bar\")\n"
   ]
  },
  {
   "cell_type": "code",
   "execution_count": 32,
   "id": "a8ca7724-f8d8-49bf-b615-e6d27f5341e9",
   "metadata": {},
   "outputs": [
    {
     "data": {
      "text/plain": [
       "transmission_type\n",
       "Manual       12019\n",
       "Automatic     2537\n",
       "Name: count, dtype: int64"
      ]
     },
     "execution_count": 32,
     "metadata": {},
     "output_type": "execute_result"
    }
   ],
   "source": [
    "df['transmission_type'].value_counts()\n"
   ]
  },
  {
   "cell_type": "code",
   "execution_count": null,
   "id": "8713c363-04ab-4932-8917-dc4fbeda8a06",
   "metadata": {},
   "outputs": [],
   "source": []
  },
  {
   "cell_type": "code",
   "execution_count": null,
   "id": "aba8f965-e10a-4514-9e00-b2a4deb7fb1c",
   "metadata": {},
   "outputs": [],
   "source": []
  },
  {
   "cell_type": "markdown",
   "id": "579e6c03-2e60-4b9a-a7c4-d0550a53e446",
   "metadata": {},
   "source": [
    "### Observation"
   ]
  },
  {
   "cell_type": "markdown",
   "id": "fa82cb4e-7b1e-483a-add2-515e0996742b",
   "metadata": {},
   "source": [
    "The maximum number of used cars sold is from companies: Maruti, Hyundai, Honda. Most of the cars sold is via non-trustmarked dealers. Most of the cars are sold after crossing the age of 4 years. It is observed that used cars had been driven for more than 50k km. Majority of the cars are petrol fuel-type and manual type."
   ]
  },
  {
   "cell_type": "code",
   "execution_count": 33,
   "id": "80f16467-6beb-41da-9986-d77b927f8645",
   "metadata": {},
   "outputs": [],
   "source": [
    "#spliting the numerical and categorical features\n",
    "cat_features = [feature for feature in df.columns if df[feature].dtype == \"object\"]\n",
    "\n",
    "num_features = [feature for feature in df.columns if df[feature].dtype != \"object\"]"
   ]
  },
  {
   "cell_type": "code",
   "execution_count": 34,
   "id": "c9f9dfab-4280-4b71-9b6e-4d1db7c9f9eb",
   "metadata": {},
   "outputs": [
    {
     "name": "stdout",
     "output_type": "stream",
     "text": [
      "Number of categorical features are 5 and name of those features are ['brand', 'model', 'seller_type', 'fuel_type', 'transmission_type']\n"
     ]
    }
   ],
   "source": [
    "print(f\"Number of categorical features are {len(cat_features)} and name of those features are {cat_features}\")"
   ]
  },
  {
   "cell_type": "code",
   "execution_count": 35,
   "id": "642a9e08-8ea8-4501-8730-87ba6d4540aa",
   "metadata": {},
   "outputs": [
    {
     "name": "stdout",
     "output_type": "stream",
     "text": [
      "Number of numerical features are 7 and name of those features are ['vehicle_age', 'km_driven', 'mileage', 'engine', 'max_power', 'seats', 'selling_price']\n"
     ]
    }
   ],
   "source": [
    "print(f\"Number of numerical features are {len(num_features)} and name of those features are {num_features}\")"
   ]
  },
  {
   "cell_type": "code",
   "execution_count": 36,
   "id": "e684e9a4-34da-4256-93e6-a4f5c8f0fc02",
   "metadata": {},
   "outputs": [
    {
     "data": {
      "text/html": [
       "<div>\n",
       "<style scoped>\n",
       "    .dataframe tbody tr th:only-of-type {\n",
       "        vertical-align: middle;\n",
       "    }\n",
       "\n",
       "    .dataframe tbody tr th {\n",
       "        vertical-align: top;\n",
       "    }\n",
       "\n",
       "    .dataframe thead th {\n",
       "        text-align: right;\n",
       "    }\n",
       "</style>\n",
       "<table border=\"1\" class=\"dataframe\">\n",
       "  <thead>\n",
       "    <tr style=\"text-align: right;\">\n",
       "      <th></th>\n",
       "      <th>vehicle_age</th>\n",
       "      <th>km_driven</th>\n",
       "      <th>mileage</th>\n",
       "      <th>engine</th>\n",
       "      <th>max_power</th>\n",
       "      <th>seats</th>\n",
       "      <th>selling_price</th>\n",
       "    </tr>\n",
       "  </thead>\n",
       "  <tbody>\n",
       "    <tr>\n",
       "      <th>vehicle_age</th>\n",
       "      <td>1.000000</td>\n",
       "      <td>0.492657</td>\n",
       "      <td>-0.249209</td>\n",
       "      <td>0.064796</td>\n",
       "      <td>-0.044968</td>\n",
       "      <td>0.017896</td>\n",
       "      <td>-0.379877</td>\n",
       "    </tr>\n",
       "    <tr>\n",
       "      <th>km_driven</th>\n",
       "      <td>0.492657</td>\n",
       "      <td>1.000000</td>\n",
       "      <td>-0.119588</td>\n",
       "      <td>0.286954</td>\n",
       "      <td>0.083573</td>\n",
       "      <td>0.232192</td>\n",
       "      <td>-0.127679</td>\n",
       "    </tr>\n",
       "    <tr>\n",
       "      <th>mileage</th>\n",
       "      <td>-0.249209</td>\n",
       "      <td>-0.119588</td>\n",
       "      <td>1.000000</td>\n",
       "      <td>-0.586146</td>\n",
       "      <td>-0.487955</td>\n",
       "      <td>-0.444161</td>\n",
       "      <td>-0.273265</td>\n",
       "    </tr>\n",
       "    <tr>\n",
       "      <th>engine</th>\n",
       "      <td>0.064796</td>\n",
       "      <td>0.286954</td>\n",
       "      <td>-0.586146</td>\n",
       "      <td>1.000000</td>\n",
       "      <td>0.734449</td>\n",
       "      <td>0.646465</td>\n",
       "      <td>0.589672</td>\n",
       "    </tr>\n",
       "    <tr>\n",
       "      <th>max_power</th>\n",
       "      <td>-0.044968</td>\n",
       "      <td>0.083573</td>\n",
       "      <td>-0.487955</td>\n",
       "      <td>0.734449</td>\n",
       "      <td>1.000000</td>\n",
       "      <td>0.238479</td>\n",
       "      <td>0.756240</td>\n",
       "    </tr>\n",
       "    <tr>\n",
       "      <th>seats</th>\n",
       "      <td>0.017896</td>\n",
       "      <td>0.232192</td>\n",
       "      <td>-0.444161</td>\n",
       "      <td>0.646465</td>\n",
       "      <td>0.238479</td>\n",
       "      <td>1.000000</td>\n",
       "      <td>0.242523</td>\n",
       "    </tr>\n",
       "    <tr>\n",
       "      <th>selling_price</th>\n",
       "      <td>-0.379877</td>\n",
       "      <td>-0.127679</td>\n",
       "      <td>-0.273265</td>\n",
       "      <td>0.589672</td>\n",
       "      <td>0.756240</td>\n",
       "      <td>0.242523</td>\n",
       "      <td>1.000000</td>\n",
       "    </tr>\n",
       "  </tbody>\n",
       "</table>\n",
       "</div>"
      ],
      "text/plain": [
       "               vehicle_age  km_driven   mileage    engine  max_power  \\\n",
       "vehicle_age       1.000000   0.492657 -0.249209  0.064796  -0.044968   \n",
       "km_driven         0.492657   1.000000 -0.119588  0.286954   0.083573   \n",
       "mileage          -0.249209  -0.119588  1.000000 -0.586146  -0.487955   \n",
       "engine            0.064796   0.286954 -0.586146  1.000000   0.734449   \n",
       "max_power        -0.044968   0.083573 -0.487955  0.734449   1.000000   \n",
       "seats             0.017896   0.232192 -0.444161  0.646465   0.238479   \n",
       "selling_price    -0.379877  -0.127679 -0.273265  0.589672   0.756240   \n",
       "\n",
       "                  seats  selling_price  \n",
       "vehicle_age    0.017896      -0.379877  \n",
       "km_driven      0.232192      -0.127679  \n",
       "mileage       -0.444161      -0.273265  \n",
       "engine         0.646465       0.589672  \n",
       "max_power      0.238479       0.756240  \n",
       "seats          1.000000       0.242523  \n",
       "selling_price  0.242523       1.000000  "
      ]
     },
     "execution_count": 36,
     "metadata": {},
     "output_type": "execute_result"
    }
   ],
   "source": [
    "df[num_features].corr()"
   ]
  },
  {
   "cell_type": "code",
   "execution_count": 37,
   "id": "514e96e4-74ae-4a79-9ea0-e607f985e73c",
   "metadata": {},
   "outputs": [
    {
     "data": {
      "text/plain": [
       "<Axes: >"
      ]
     },
     "execution_count": 37,
     "metadata": {},
     "output_type": "execute_result"
    },
    {
     "data": {
      "image/png": "[encoded data removed]",
      "text/plain": [
       "<Figure size 640x480 with 2 Axes>"
      ]
     },
     "metadata": {},
     "output_type": "display_data"
    }
   ],
   "source": [
    "sns.heatmap(df[num_features].corr())"
   ]
  },
  {
   "cell_type": "markdown",
   "id": "2720a28d-682d-4cfe-8b7b-376ac8a8c9a1",
   "metadata": {},
   "source": [
    "### Observation"
   ]
  },
  {
   "cell_type": "markdown",
   "id": "f96b9ab8-db9f-466c-ab96-7f61f3b3d723",
   "metadata": {},
   "source": [
    "Selling price of the used cars strongly and directly depends on the type of its engine and its maximum power, while it is inversely dependent on its age and distance covered. It is striking that cars with high mileage often go for lower prices."
   ]
  },
  {
   "cell_type": "code",
   "execution_count": null,
   "id": "9708462b-458e-4b82-a3d6-afd0223d3df3",
   "metadata": {},
   "outputs": [],
   "source": []
  },
  {
   "cell_type": "code",
   "execution_count": 38,
   "id": "c8cdda3f-de74-4907-b4ba-fbcebb760f7b",
   "metadata": {},
   "outputs": [],
   "source": [
    "df.to_csv('/home/sumit/PriceLens/data/processed/cardekho_imputated.csv')"
   ]
  },
  {
   "cell_type": "code",
   "execution_count": null,
   "id": "ee841472-6692-4b77-b6ae-e237cb42faff",
   "metadata": {},
   "outputs": [],
   "source": []
  },
  {
   "cell_type": "code",
   "execution_count": null,
   "id": "8baddadb-1f33-49db-af49-0d4843cdad40",
   "metadata": {},
   "outputs": [],
   "source": []
  }
 ],
 "metadata": {
  "kernelspec": {
   "display_name": "Python 3 (ipykernel)",
   "language": "python",
   "name": "python3"
  },
  "language_info": {
   "codemirror_mode": {
    "name": "ipython",
    "version": 3
   },
   "file_extension": ".py",
   "mimetype": "text/x-python",
   "name": "python",
   "nbconvert_exporter": "python",
   "pygments_lexer": "ipython3",
   "version": "3.13.5"
  }
 },
 "nbformat": 4,
 "nbformat_minor": 5
}
